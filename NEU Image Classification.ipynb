{
 "cells": [
  {
   "cell_type": "code",
   "execution_count": 1,
   "id": "e0705a00",
   "metadata": {},
   "outputs": [],
   "source": [
    "import os\n",
    "\n",
    "base_dir = 'C:/Users/m477a/JupyterNote/task_prof_tsou/NEU Surface Defect Database/IMAGES'\n",
    "data_dir = os.path.join(base_dir, 'train')"
   ]
  },
  {
   "cell_type": "code",
   "execution_count": 2,
   "id": "f2ede246",
   "metadata": {},
   "outputs": [
    {
     "data": {
      "text/plain": [
       "['crazing',\n",
       " 'inclusion',\n",
       " 'patches',\n",
       " 'pitted_surface',\n",
       " 'rolled-in_scale',\n",
       " 'scratches']"
      ]
     },
     "execution_count": 2,
     "metadata": {},
     "output_type": "execute_result"
    }
   ],
   "source": [
    "# see the data class or separated files\n",
    "os.listdir(data_dir)"
   ]
  },
  {
   "cell_type": "code",
   "execution_count": 3,
   "id": "c4095b66",
   "metadata": {},
   "outputs": [],
   "source": [
    "from tensorflow.keras.preprocessing.image import ImageDataGenerator\n",
    "\n",
    "# data normalization using ImageDataGenerator \n",
    "# actually the data need to be normalize before get into the neural network\n",
    "train_data_generator = ImageDataGenerator(\n",
    "     rescale = 1.255,\n",
    "     rotation_range = 20,\n",
    "     horizontal_flip = True,\n",
    "     shear_range = 0.2,\n",
    "     fill_mode = 'wrap',\n",
    "     validation_split = 0.3)\n",
    "#      validation_split = 0.4) # 6:4 (train:validation)"
   ]
  },
  {
   "cell_type": "markdown",
   "id": "1fc99c0a",
   "metadata": {},
   "source": [
    "### Splitting the data into Validation and Train"
   ]
  },
  {
   "cell_type": "code",
   "execution_count": 4,
   "id": "a8211409",
   "metadata": {},
   "outputs": [
    {
     "name": "stdout",
     "output_type": "stream",
     "text": [
      "Found 1242 images belonging to 6 classes.\n",
      "Found 528 images belonging to 6 classes.\n"
     ]
    }
   ],
   "source": [
    "train_generator = train_data_generator.flow_from_directory(\n",
    "    data_dir,\n",
    "    target_size=(200, 200),\n",
    "    shuffle = True,\n",
    "    subset = 'training')\n",
    "\n",
    "validation_generator = train_data_generator.flow_from_directory(\n",
    "    data_dir,\n",
    "    target_size=(200, 200),\n",
    "    subset = 'validation')"
   ]
  },
  {
   "cell_type": "markdown",
   "id": "358c31ab",
   "metadata": {},
   "source": [
    "### Make a Model"
   ]
  },
  {
   "cell_type": "code",
   "execution_count": 5,
   "id": "1cfba79d",
   "metadata": {},
   "outputs": [],
   "source": [
    "import tensorflow as tf\n",
    "from tensorflow.keras import layers, models\n",
    "\n",
    "model = models.Sequential()\n",
    "model.add(layers.Conv2D(32, (3, 3), activation='relu', input_shape=(200, 200, 3)))\n",
    "model.add(layers.MaxPooling2D((2, 2)))\n",
    "model.add(layers.Conv2D(64, (3, 3), activation='relu'))\n",
    "model.add(layers.MaxPooling2D((2, 2)))\n",
    "model.add(layers.Conv2D(128, (3, 3), activation='relu'))\n",
    "model.add(layers.MaxPooling2D((2, 2)))\n",
    "model.add(layers.Conv2D(256, (3, 3), activation='relu'))\n",
    "model.add(layers.MaxPooling2D((2, 2)))\n",
    "model.add(layers.Flatten())\n",
    "model.add(layers.Dense(512, activation='relu'))\n",
    "model.add(layers.Dense(6, activation='softmax')) # put the number of your classification class"
   ]
  },
  {
   "cell_type": "code",
   "execution_count": 6,
   "id": "399bbd55",
   "metadata": {},
   "outputs": [
    {
     "name": "stdout",
     "output_type": "stream",
     "text": [
      "Model: \"sequential\"\n",
      "_________________________________________________________________\n",
      " Layer (type)                Output Shape              Param #   \n",
      "=================================================================\n",
      " conv2d (Conv2D)             (None, 198, 198, 32)      896       \n",
      "                                                                 \n",
      " max_pooling2d (MaxPooling2D  (None, 99, 99, 32)       0         \n",
      " )                                                               \n",
      "                                                                 \n",
      " conv2d_1 (Conv2D)           (None, 97, 97, 64)        18496     \n",
      "                                                                 \n",
      " max_pooling2d_1 (MaxPooling  (None, 48, 48, 64)       0         \n",
      " 2D)                                                             \n",
      "                                                                 \n",
      " conv2d_2 (Conv2D)           (None, 46, 46, 128)       73856     \n",
      "                                                                 \n",
      " max_pooling2d_2 (MaxPooling  (None, 23, 23, 128)      0         \n",
      " 2D)                                                             \n",
      "                                                                 \n",
      " conv2d_3 (Conv2D)           (None, 21, 21, 256)       295168    \n",
      "                                                                 \n",
      " max_pooling2d_3 (MaxPooling  (None, 10, 10, 256)      0         \n",
      " 2D)                                                             \n",
      "                                                                 \n",
      " flatten (Flatten)           (None, 25600)             0         \n",
      "                                                                 \n",
      " dense (Dense)               (None, 512)               13107712  \n",
      "                                                                 \n",
      " dense_1 (Dense)             (None, 6)                 3078      \n",
      "                                                                 \n",
      "=================================================================\n",
      "Total params: 13,499,206\n",
      "Trainable params: 13,499,206\n",
      "Non-trainable params: 0\n",
      "_________________________________________________________________\n"
     ]
    }
   ],
   "source": [
    "model.summary()\n",
    "# we can see the detail of layer inside our model"
   ]
  },
  {
   "cell_type": "code",
   "execution_count": 7,
   "id": "1eb28abb",
   "metadata": {},
   "outputs": [],
   "source": [
    "model.compile(optimizer='adam',\n",
    "              loss='categorical_crossentropy',\n",
    "              metrics=['accuracy'])"
   ]
  },
  {
   "cell_type": "code",
   "execution_count": 8,
   "id": "e5dd820f",
   "metadata": {},
   "outputs": [
    {
     "name": "stdout",
     "output_type": "stream",
     "text": [
      "<class 'keras.preprocessing.image.DirectoryIterator'>\n",
      "<class 'keras.preprocessing.image.DirectoryIterator'>\n"
     ]
    }
   ],
   "source": [
    "print(type(train_generator))\n",
    "print(type(validation_generator))"
   ]
  },
  {
   "cell_type": "markdown",
   "id": "2edef4d8",
   "metadata": {},
   "source": [
    "### Training the model"
   ]
  },
  {
   "cell_type": "code",
   "execution_count": 9,
   "id": "c7957435",
   "metadata": {},
   "outputs": [
    {
     "name": "stdout",
     "output_type": "stream",
     "text": [
      "Epoch 1/10\n",
      "30/30 - 52s - loss: 29.3993 - accuracy: 0.2254 - val_loss: 1.7773 - val_accuracy: 0.2562 - 52s/epoch - 2s/step\n",
      "Epoch 2/10\n",
      "30/30 - 51s - loss: 1.6493 - accuracy: 0.3428 - val_loss: 1.7616 - val_accuracy: 0.2438 - 51s/epoch - 2s/step\n",
      "Epoch 3/10\n",
      "30/30 - 50s - loss: 2.0479 - accuracy: 0.2746 - val_loss: 1.6682 - val_accuracy: 0.2625 - 50s/epoch - 2s/step\n",
      "Epoch 4/10\n",
      "30/30 - 51s - loss: 1.7843 - accuracy: 0.1845 - val_loss: 1.7960 - val_accuracy: 0.2000 - 51s/epoch - 2s/step\n",
      "Epoch 5/10\n",
      "30/30 - 52s - loss: 1.7794 - accuracy: 0.1866 - val_loss: 1.7554 - val_accuracy: 0.1937 - 52s/epoch - 2s/step\n",
      "Epoch 6/10\n",
      "30/30 - 51s - loss: 2.2596 - accuracy: 0.1992 - val_loss: 1.7285 - val_accuracy: 0.2062 - 51s/epoch - 2s/step\n",
      "Epoch 7/10\n",
      "30/30 - 51s - loss: 1.8392 - accuracy: 0.2138 - val_loss: 1.7461 - val_accuracy: 0.2125 - 51s/epoch - 2s/step\n",
      "Epoch 8/10\n",
      "30/30 - 51s - loss: 2.3860 - accuracy: 0.1813 - val_loss: 1.7916 - val_accuracy: 0.2062 - 51s/epoch - 2s/step\n",
      "Epoch 9/10\n",
      "30/30 - 51s - loss: 1.7826 - accuracy: 0.1781 - val_loss: 1.7400 - val_accuracy: 0.2000 - 51s/epoch - 2s/step\n",
      "Epoch 10/10\n",
      "30/30 - 51s - loss: 4.2828 - accuracy: 0.1771 - val_loss: 1.6843 - val_accuracy: 0.2062 - 51s/epoch - 2s/step\n"
     ]
    }
   ],
   "source": [
    "model = model.fit(\n",
    "    train_generator,\n",
    "    steps_per_epoch=30, # 25\n",
    "    epochs=10,\n",
    "    validation_data=validation_generator,\n",
    "    validation_steps=5, # 5\n",
    "    verbose=2\n",
    ")"
   ]
  },
  {
   "cell_type": "markdown",
   "id": "a8e09b1f",
   "metadata": {},
   "source": [
    "### Evaluation"
   ]
  },
  {
   "cell_type": "code",
   "execution_count": 13,
   "id": "83d6a9c8",
   "metadata": {},
   "outputs": [],
   "source": [
    "# model.evaluate(train_generator, verbose=2)"
   ]
  },
  {
   "cell_type": "code",
   "execution_count": 12,
   "id": "f6921f09",
   "metadata": {},
   "outputs": [
    {
     "data": {
      "image/png": "[encoded data removed]",
      "text/plain": [
       "<Figure size 576x576 with 2 Axes>"
      ]
     },
     "metadata": {
      "needs_background": "light"
     },
     "output_type": "display_data"
    }
   ],
   "source": [
    "import matplotlib.pyplot as plt\n",
    "\n",
    "epochs = 10\n",
    "\n",
    "acc = model.history['accuracy']\n",
    "val_acc = model.history['val_accuracy']\n",
    "\n",
    "loss = model.history['loss']\n",
    "val_loss= model.history['val_loss']\n",
    "\n",
    "epochs_range = range(epochs)\n",
    "\n",
    "plt.figure(figsize=(8, 8))\n",
    "plt.subplot(1, 2, 1) # plt.subplot(1, 2, 2) will merge the result\n",
    "plt.plot(epochs_range, acc, label='Training Accuracy')\n",
    "plt.plot(epochs_range, val_acc, label='Validation Accuracy')\n",
    "plt.legend(loc='lower right')\n",
    "plt.title('Training and Validation Accuracy')\n",
    "\n",
    "plt.subplot(1, 2, 2)\n",
    "plt.plot(epochs_range, loss, label='Training Loss')\n",
    "plt.plot(epochs_range, val_loss, label='Validation Loss')\n",
    "plt.legend(loc='upper right')\n",
    "plt.title('Training and Validation Loss')\n",
    "plt.show()"
   ]
  },
  {
   "cell_type": "code",
   "execution_count": null,
   "id": "61c7837b",
   "metadata": {},
   "outputs": [],
   "source": []
  },
  {
   "cell_type": "code",
   "execution_count": null,
   "id": "2f7ed434",
   "metadata": {},
   "outputs": [],
   "source": []
  },
  {
   "cell_type": "code",
   "execution_count": null,
   "id": "ce537d35",
   "metadata": {},
   "outputs": [],
   "source": []
  },
  {
   "cell_type": "code",
   "execution_count": null,
   "id": "9007a08d",
   "metadata": {},
   "outputs": [],
   "source": []
  }
 ],
 "metadata": {
  "kernelspec": {
   "display_name": "Python 3 (ipykernel)",
   "language": "python",
   "name": "python3"
  },
  "language_info": {
   "codemirror_mode": {
    "name": "ipython",
    "version": 3
   },
   "file_extension": ".py",
   "mimetype": "text/x-python",
   "name": "python",
   "nbconvert_exporter": "python",
   "pygments_lexer": "ipython3",
   "version": "3.8.12"
  }
 },
 "nbformat": 4,
 "nbformat_minor": 5
}
